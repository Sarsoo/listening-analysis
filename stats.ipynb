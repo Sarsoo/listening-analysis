{
 "cells": [
  {
   "cell_type": "markdown",
   "metadata": {},
   "source": [
    "# Stats\n",
    "\n",
    "Some easy numbers about habits"
   ]
  },
  {
   "cell_type": "markdown",
   "metadata": {},
   "source": [
    "# % of scrobbles with attached URIs"
   ]
  },
  {
   "cell_type": "code",
   "execution_count": 36,
   "metadata": {},
   "outputs": [
    {
     "name": "stdout",
     "output_type": "stream",
     "text": [
      "97.01% joined scrobbles\n"
     ]
    },
    {
     "data": {
      "image/png": "[encoded data removed]",
      "text/plain": [
       "<Figure size 432x288 with 1 Axes>"
      ]
     },
     "metadata": {},
     "output_type": "display_data"
    }
   ],
   "source": [
    "no_uri = (\n",
    "    'SELECT ' \n",
    "    '   COUNT(track) '\n",
    "    'FROM `sarsooxyz.scrobbles.*` '\n",
    "    'WHERE '\n",
    "    '  uri IS NOT NULL '\n",
    ")\n",
    "\n",
    "uri = (\n",
    "    'SELECT ' \n",
    "    '   COUNT(track) '\n",
    "    'FROM `sarsooxyz.scrobbles.*` '\n",
    ")\n",
    "\n",
    "no_uri_count = list(client.query(no_uri).result())[0][0]\n",
    "uri_count = list(client.query(uri).result())[0][0]\n",
    "\n",
    "print(f'{( no_uri_count / uri_count ) * 100:.2f}% joined scrobbles')\n",
    "plt.pie([no_uri_count, uri_count - no_uri_count], labels=[\"No URI\", \"Attached URI\"])\n",
    "plt.show()"
   ]
  },
  {
   "cell_type": "markdown",
   "metadata": {},
   "source": [
    "## Most listened to unjoined tracks\n",
    "\n",
    "Tracks without uris to allow Last.fm -> Spotify join"
   ]
  },
  {
   "cell_type": "code",
   "execution_count": 5,
   "metadata": {},
   "outputs": [
    {
     "name": "stdout",
     "output_type": "stream",
     "text": [
      "818 missing tracks\n"
     ]
    },
    {
     "data": {
      "text/plain": [
       "artist               track                                     \n",
       "Wiley                Bring Them All / Holy Grime (feat. Devlin)    54\n",
       "Freddie Gibbs        What It B Like                                36\n",
       "Travi$ Scott         Hell of a Night                               35\n",
       "The Black Eyed Peas  Street Livin'                                 35\n",
       "Gorgon City          Ready for Your Love (feat. MNEK)              33\n",
       "                     Unmissable (feat. Zak Abel)                   33\n",
       "Freddie Gibbs        How We Do ('93 Til Freestyle #3)              31\n",
       "SUMR CAMP            Words                                         28\n",
       "Freddie Gibbs        Flamboyant (Freestyle #2)                     28\n",
       "Joey Bada$$          Legendary (feat. J. Cole)                     27\n",
       "GZA/Genius           Gold                                          26\n",
       "Tchami               World To Me (feat. Luke James)                25\n",
       "                     Godspell (feat. Taiki Nulight)                24\n",
       "Prodigy & Alchemist  IMDKV                                         22\n",
       "Tchami               Don't Let Me Down (feat. Kaelyn Behr)         21\n",
       "Death Grips          Lord of the Game (ft. Mexican Girl)           20\n",
       "Wait What            dead wrong intro                              20\n",
       "Al-Namrood           Atba'a Al-Namrood                             19\n",
       "bastien keb          Fit Rare (feat. Cappo)                        19\n",
       "Wait What            it's all about the crystalizabeths            19\n",
       "Name: album, dtype: int64"
      ]
     },
     "execution_count": 5,
     "metadata": {},
     "output_type": "execute_result"
    }
   ],
   "source": [
    "print(len(scrobbles[scrobbles['uri'].isnull()].drop_duplicates([\"artist\", \"track\"])), \"missing tracks\")\n",
    "scrobbles[scrobbles['uri'].isnull()].groupby([\"artist\", \"track\"]).count()[\"album\"].sort_values(ascending=False).head(20)"
   ]
  },
  {
   "cell_type": "code",
   "execution_count": 1,
   "metadata": {},
   "outputs": [],
   "source": [
    "from google.cloud import bigquery\n",
    "import matplotlib.pyplot as plt\n",
    "from dotenv import load_dotenv\n",
    "from analysis.query import *\n",
    "from analysis.net import get_spotnet\n",
    "from spotframework.model.uri import Uri\n",
    "import string\n",
    "\n",
    "load_dotenv()\n",
    "\n",
    "client = bigquery.Client()\n",
    "spotnet = get_spotnet()\n",
    "cache = 'query.csv'"
   ]
  },
  {
   "cell_type": "markdown",
   "metadata": {},
   "source": [
    "## Read Scrobble Frame"
   ]
  },
  {
   "cell_type": "code",
   "execution_count": 2,
   "metadata": {},
   "outputs": [
    {
     "name": "stdout",
     "output_type": "stream",
     "text": [
      "query.csv not found, pulling\n"
     ]
    }
   ],
   "source": [
    "scrobbles = get_query(cache=cache)"
   ]
  },
  {
   "cell_type": "markdown",
   "metadata": {},
   "source": [
    "## Write Scrobble Frame"
   ]
  },
  {
   "cell_type": "code",
   "execution_count": 4,
   "metadata": {},
   "outputs": [],
   "source": [
    "scrobbles.reset_index().to_csv(cache, sep='\\t')"
   ]
  },
  {
   "cell_type": "code",
   "execution_count": null,
   "metadata": {},
   "outputs": [],
   "source": []
  }
 ],
 "metadata": {
  "kernelspec": {
   "display_name": "Python 3",
   "language": "python",
   "name": "python3"
  },
  "language_info": {
   "codemirror_mode": {
    "name": "ipython",
    "version": 3
   },
   "file_extension": ".py",
   "mimetype": "text/x-python",
   "name": "python",
   "nbconvert_exporter": "python",
   "pygments_lexer": "ipython3",
   "version": "3.8.9"
  }
 },
 "nbformat": 4,
 "nbformat_minor": 4
}
