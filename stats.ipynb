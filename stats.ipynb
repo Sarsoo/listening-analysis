{
 "cells": [
  {
   "cell_type": "markdown",
   "metadata": {},
   "source": [
    "# Stats\n",
    "\n",
    "Some easy numbers about habits"
   ]
  },
  {
   "cell_type": "markdown",
   "metadata": {},
   "source": [
    "# % of scrobbles with attached URIs"
   ]
  },
  {
   "cell_type": "code",
   "execution_count": 3,
   "metadata": {},
   "outputs": [
    {
     "name": "stdout",
     "output_type": "stream",
     "text": [
      "95.10% joined tracks\n"
     ]
    },
    {
     "data": {
      "image/png": "[encoded data removed]",
      "text/plain": [
       "<Figure size 432x288 with 1 Axes>"
      ]
     },
     "metadata": {},
     "output_type": "display_data"
    }
   ],
   "source": [
    "no_uri = (\n",
    "    'SELECT ' \n",
    "    '   COUNT(track) '\n",
    "    'FROM `sarsooxyz.scrobbles.*` '\n",
    "    'WHERE '\n",
    "    '  uri IS NOT NULL '\n",
    ")\n",
    "\n",
    "uri = (\n",
    "    'SELECT ' \n",
    "    '   COUNT(track) '\n",
    "    'FROM `sarsooxyz.scrobbles.*` '\n",
    ")\n",
    "\n",
    "no_uri_count = list(client.query(no_uri).result())[0][0]\n",
    "uri_count = list(client.query(uri).result())[0][0]\n",
    "\n",
    "print(f'{( no_uri_count / uri_count ) * 100:.2f}% joined tracks')\n",
    "plt.pie([no_uri_count, uri_count - no_uri_count], labels=[\"No URI\", \"Attached URI\"])\n",
    "plt.show()"
   ]
  },
  {
   "cell_type": "code",
   "execution_count": 2,
   "metadata": {},
   "outputs": [],
   "source": [
    "from google.cloud import bigquery\n",
    "import matplotlib.pyplot as plt\n",
    "from dotenv import load_dotenv\n",
    "\n",
    "load_dotenv()\n",
    "\n",
    "client = bigquery.Client()"
   ]
  }
 ],
 "metadata": {
  "kernelspec": {
   "display_name": "Python 3",
   "language": "python",
   "name": "python3"
  },
  "language_info": {
   "codemirror_mode": {
    "name": "ipython",
    "version": 3
   },
   "file_extension": ".py",
   "mimetype": "text/x-python",
   "name": "python",
   "nbconvert_exporter": "python",
   "pygments_lexer": "ipython3",
   "version": "3.8.9"
  }
 },
 "nbformat": 4,
 "nbformat_minor": 4
}
